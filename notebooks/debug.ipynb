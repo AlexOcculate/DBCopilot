{
 "cells": [
  {
   "cell_type": "code",
   "execution_count": null,
   "id": "f40ee4b1-b1d6-48ae-ab2f-fcf4916bd034",
   "metadata": {},
   "outputs": [],
   "source": [
    "import json\n",
    "import sys\n",
    "import networkx as nx\n",
    "import matplotlib.pyplot as plt\n",
    "from pathlib import Path\n",
    "\n",
    "sys.path.append(str(Path(\".\").resolve().parent))\n",
    "\n",
    "from src.utils.helpers import schema2graph"
   ]
  },
  {
   "cell_type": "code",
   "execution_count": null,
   "id": "28bccbfc-fa28-456f-9644-2ccc9d3463a3",
   "metadata": {},
   "outputs": [],
   "source": [
    "with Path(\"../data/spider/schemas.json\").open() as f:\n",
    "    schemas = json.load(f)\n",
    "\n",
    "for key, value in schemas.items():\n",
    "    print({key: value})\n",
    "    G = schema2graph({key: value})\n",
    "    nx.draw(G, pos=nx.spring_layout(G))\n",
    "    plt.show()"
   ]
  },
  {
   "cell_type": "code",
   "execution_count": null,
   "id": "355e3867-2745-4303-a292-a24dd8607df7",
   "metadata": {},
   "outputs": [],
   "source": []
  }
 ],
 "metadata": {
  "kernelspec": {
   "display_name": "Python 3 (ipykernel)",
   "language": "python",
   "name": "python3"
  },
  "language_info": {
   "codemirror_mode": {
    "name": "ipython",
    "version": 3
   },
   "file_extension": ".py",
   "mimetype": "text/x-python",
   "name": "python",
   "nbconvert_exporter": "python",
   "pygments_lexer": "ipython3",
   "version": "3.11.3"
  }
 },
 "nbformat": 4,
 "nbformat_minor": 5
}
