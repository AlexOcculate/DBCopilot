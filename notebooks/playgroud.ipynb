{
 "cells": [
  {
   "cell_type": "code",
   "execution_count": null,
   "id": "3dee8df7-9b18-49ea-9386-767ee7043a18",
   "metadata": {},
   "outputs": [],
   "source": [
    "import sys\n",
    "import json\n",
    "from pathlib import Path\n",
    "\n",
    "import networkx as nx\n",
    "import matplotlib.pyplot as plt\n",
    "\n",
    "sys.path.append(str(Path(\"./\").resolve().parents[0]))\n",
    "\n",
    "from src.utils.helpers import schema2graph, snode"
   ]
  },
  {
   "cell_type": "code",
   "execution_count": null,
   "id": "276c2078-7f12-4dce-8477-81e23b52ea7e",
   "metadata": {},
   "outputs": [],
   "source": [
    "with Path(\"../data/spider/schemas.json\").open(\"r\") as f:\n",
    "    schemas = json.load(f)"
   ]
  },
  {
   "cell_type": "code",
   "execution_count": null,
   "id": "b475eaac-eaaa-4d5e-a4a1-c605af78533f",
   "metadata": {},
   "outputs": [],
   "source": [
    "for db, schema in schemas.items():\n",
    "    G = schema2graph({db: schema})\n",
    "    labels = {}\n",
    "    print(db)\n",
    "    for node in list(G)[1:]:\n",
    "        labels[node] = node.name \n",
    "    nx.draw(G, labels=labels, nodelist=list(G)[1:])\n",
    "    plt.show()"
   ]
  },
  {
   "cell_type": "code",
   "execution_count": null,
   "id": "1b9a80f2-0e83-441a-9e61-de5dd6b4d79d",
   "metadata": {},
   "outputs": [],
   "source": []
  }
 ],
 "metadata": {
  "kernelspec": {
   "display_name": "Python 3 (ipykernel)",
   "language": "python",
   "name": "python3"
  },
  "language_info": {
   "codemirror_mode": {
    "name": "ipython",
    "version": 3
   },
   "file_extension": ".py",
   "mimetype": "text/x-python",
   "name": "python",
   "nbconvert_exporter": "python",
   "pygments_lexer": "ipython3",
   "version": "3.10.13"
  }
 },
 "nbformat": 4,
 "nbformat_minor": 5
}
